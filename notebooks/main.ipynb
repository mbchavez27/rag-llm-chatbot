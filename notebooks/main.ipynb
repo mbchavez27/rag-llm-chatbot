{
 "cells": [
  {
   "cell_type": "code",
   "execution_count": 27,
   "id": "a0079396",
   "metadata": {
    "slideshow": {
     "slide_type": "notes"
    }
   },
   "outputs": [
    {
     "data": {
      "text/markdown": [
       "# Add Imports Here"
      ],
      "text/plain": [
       "<IPython.core.display.Markdown object>"
      ]
     },
     "metadata": {},
     "output_type": "display_data"
    }
   ],
   "source": [
    "from IPython.display import Markdown, display\n",
    "\n",
    "from sentence_transformers import SentenceTransformer\n",
    "import pandas as pd\n",
    "import chromadb\n",
    "from dotenv import load_dotenv\n",
    "import os\n",
    "\n",
    "display(Markdown(\"# Add Imports Here\"))"
   ]
  },
  {
   "cell_type": "code",
   "execution_count": 32,
   "id": "58a54990",
   "metadata": {},
   "outputs": [
    {
     "name": "stdout",
     "output_type": "stream",
     "text": [
      "leap25_events.csv\n"
     ]
    }
   ],
   "source": [
    "load_dotenv()\n",
    "\n",
    "CSV_DATA = os.getenv(\"CSV_DATA\")\n",
    "EMBEDDING_MODEL = os.getenv(\"EMBEDDING_MODEL\")\n",
    "print(CSV_DATA)\n"
   ]
  },
  {
   "cell_type": "code",
   "execution_count": null,
   "id": "97cea20a",
   "metadata": {},
   "outputs": [],
   "source": [
    "# Init the Model\n",
    "model = SentenceTransformer(EMBEDDING_MODEL)"
   ]
  },
  {
   "cell_type": "code",
   "execution_count": null,
   "id": "d88bb031",
   "metadata": {},
   "outputs": [],
   "source": [
    "# Reads the File\n",
    "context = pd.read_csv(f\"../context/{CSV_DATA}\")\n",
    "\n",
    "# Fill NAs and Combine Features\n",
    "context = context.fillna(\"\")\n",
    "\n",
    "context[\"combined_features\"] = context.apply(lambda row: \" | \".join(row.astype(str)), axis=1)"
   ]
  },
  {
   "cell_type": "code",
   "execution_count": null,
   "id": "7563548f",
   "metadata": {},
   "outputs": [
    {
     "name": "stderr",
     "output_type": "stream",
     "text": [
      "Batches: 100%|██████████| 4/4 [00:04<00:00,  1.22s/it]\n"
     ]
    },
    {
     "data": {
      "text/plain": [
       "0      [-0.034079719334840775, 0.0008343245135620236,...\n",
       "1      [0.0034447512589395046, -0.02744491584599018, ...\n",
       "2      [-0.04606747254729271, 0.010734816081821918, -...\n",
       "3      [-0.09352120757102966, -0.020399125292897224, ...\n",
       "4      [0.00765994330868125, -0.022827932611107826, 0...\n",
       "                             ...                        \n",
       "110    [0.00921242218464613, 0.04410473257303238, 0.0...\n",
       "111    [-0.015327713452279568, 0.03683719038963318, 0...\n",
       "112    [0.02015979401767254, -0.0077823190949857235, ...\n",
       "113    [0.020493140444159508, 0.027948880568146706, -...\n",
       "114    [-0.018508629873394966, 0.02775156870484352, 0...\n",
       "Name: embedding, Length: 115, dtype: object"
      ]
     },
     "execution_count": 38,
     "metadata": {},
     "output_type": "execute_result"
    }
   ],
   "source": [
    "# Create Embeddings\n",
    "texts = context[\"combined_features\"].tolist()\n",
    "\n",
    "embeddings = model.encode(texts, show_progress_bar=True)\n",
    "\n",
    "# Add Embeddings to DataFrame\n",
    "context[\"embedding\"] = embeddings.tolist()\n",
    "\n",
    "print(\"Embeddings: \")\n",
    "context[\"embedding\"]\n"
   ]
  }
 ],
 "metadata": {
  "kernelspec": {
   "display_name": "rag-env",
   "language": "python",
   "name": "python3"
  },
  "language_info": {
   "codemirror_mode": {
    "name": "ipython",
    "version": 3
   },
   "file_extension": ".py",
   "mimetype": "text/x-python",
   "name": "python",
   "nbconvert_exporter": "python",
   "pygments_lexer": "ipython3",
   "version": "3.13.7"
  }
 },
 "nbformat": 4,
 "nbformat_minor": 5
}
